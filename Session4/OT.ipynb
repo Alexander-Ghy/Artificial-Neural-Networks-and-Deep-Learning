{
  "cells": [
    {
      "cell_type": "code",
      "execution_count": null,
      "metadata": {
        "colab": {},
        "colab_type": "code",
        "id": "nmKZzV32yvEQ"
      },
      "outputs": [],
      "source": [
        "%matplotlib inline"
      ]
    },
    {
      "cell_type": "code",
      "execution_count": null,
      "metadata": {
        "colab": {},
        "colab_type": "code",
        "id": "IUMogLUhywWd"
      },
      "outputs": [],
      "source": [
        "# Import packages\n",
        "!pip install POT"
      ]
    },
    {
      "cell_type": "markdown",
      "metadata": {
        "colab_type": "text",
        "id": "zLMZMAKfyvEZ"
      },
      "source": [
        "\n",
        "# OT for image color adaptation\n",
        "\n",
        "\n",
        "This example presents a way of transferring colors between two image\n",
        "with Optimal Transport as introduced in [6]\n",
        "\n",
        "[6] Ferradans, S., Papadakis, N., Peyre, G., & Aujol, J. F. (2014).\n",
        "Regularized discrete optimal transport.\n",
        "SIAM Journal on Imaging Sciences, 7(3), 1853-1882.\n",
        "\n"
      ]
    },
    {
      "cell_type": "code",
      "execution_count": null,
      "metadata": {
        "colab": {},
        "colab_type": "code",
        "id": "VHFNJHxYyvEb"
      },
      "outputs": [],
      "source": [
        "# Authors: Remi Flamary <remi.flamary@unice.fr>\n",
        "#          Stanislas Chambon <stan.chambon@gmail.com>\n",
        "#\n",
        "# License: MIT License\n",
        "\n",
        "import numpy as np\n",
        "from scipy import ndimage\n",
        "import matplotlib.pylab as pl\n",
        "import ot\n",
        "\n",
        "\n",
        "r = np.random.RandomState(42)\n",
        "\n",
        "\n",
        "def im2mat(I):\n",
        "    \"\"\"Converts and image to matrix (one pixel per line)\"\"\"\n",
        "    return I.reshape((I.shape[0] * I.shape[1], I.shape[2]))\n",
        "\n",
        "\n",
        "def mat2im(X, shape):\n",
        "    \"\"\"Converts back a matrix to an image\"\"\"\n",
        "    return X.reshape(shape)\n",
        "\n",
        "\n",
        "def minmax(I):\n",
        "    return np.clip(I, 0, 1)"
      ]
    },
    {
      "cell_type": "markdown",
      "metadata": {
        "colab_type": "text",
        "id": "GPwyKQgNyvEg"
      },
      "source": [
        "Generate data\n",
        "-------------\n",
        "**Exercise** Upload you own images using the Files tab to the left and replace values of the **image1** and **image2** variables with your own file names. <br/> Make sure that both images have the same dimensions. <br/>Afterwards transfer the colors between the two image using the provided code. <br/> Observe the results and comment on what you have understood from this optimal transport example.\n",
        "\n"
      ]
    },
    {
      "cell_type": "code",
      "execution_count": null,
      "metadata": {
        "colab": {},
        "colab_type": "code",
        "id": "lZq1RlAAyvEi"
      },
      "outputs": [],
      "source": [
        "image1 = 'a.jpg'\n",
        "image2 = 'b.jpg'\n",
        "\n",
        "# Loading images\n",
        "I1 = pl.imread(image1).astype(np.float64) / 256\n",
        "I2 = pl.imread(image2).astype(np.float64) / 256\n",
        "\n",
        "X1 = im2mat(I1)\n",
        "X2 = im2mat(I2)\n",
        "\n",
        "# training samples\n",
        "nb = 1000\n",
        "idx1 = r.randint(X1.shape[0], size=(nb,))\n",
        "idx2 = r.randint(X2.shape[0], size=(nb,))\n",
        "\n",
        "Xs = X1[idx1, :]\n",
        "Xt = X2[idx2, :]"
      ]
    },
    {
      "cell_type": "markdown",
      "metadata": {
        "colab_type": "text",
        "id": "CefcvaQwyvEn"
      },
      "source": [
        "Plot original image\n",
        "-------------------\n",
        "\n"
      ]
    },
    {
      "cell_type": "code",
      "execution_count": null,
      "metadata": {
        "colab": {},
        "colab_type": "code",
        "id": "ewizqHqAyvEp"
      },
      "outputs": [],
      "source": [
        "pl.figure(1, figsize=(6.4, 3))\n",
        "\n",
        "pl.subplot(1, 2, 1)\n",
        "pl.imshow(I1)\n",
        "pl.axis('off')\n",
        "pl.title('Image 1')\n",
        "\n",
        "pl.subplot(1, 2, 2)\n",
        "pl.imshow(I2)\n",
        "pl.axis('off')\n",
        "pl.title('Image 2')"
      ]
    },
    {
      "cell_type": "markdown",
      "metadata": {
        "colab_type": "text",
        "id": "PfIYDH-oyvEs"
      },
      "source": [
        "Scatter plot of colors\n",
        "----------------------\n",
        "\n"
      ]
    },
    {
      "cell_type": "code",
      "execution_count": null,
      "metadata": {
        "colab": {},
        "colab_type": "code",
        "id": "VbKeEAQEyvEt"
      },
      "outputs": [],
      "source": [
        "pl.figure(2, figsize=(6.4, 3))\n",
        "\n",
        "pl.subplot(1, 2, 1)\n",
        "pl.scatter(Xs[:, 0], Xs[:, 2], c=Xs)\n",
        "pl.axis([0, 1, 0, 1])\n",
        "pl.xlabel('Red')\n",
        "pl.ylabel('Blue')\n",
        "pl.title('Image 1')\n",
        "\n",
        "pl.subplot(1, 2, 2)\n",
        "pl.scatter(Xt[:, 0], Xt[:, 2], c=Xt)\n",
        "pl.axis([0, 1, 0, 1])\n",
        "pl.xlabel('Red')\n",
        "pl.ylabel('Blue')\n",
        "pl.title('Image 2')\n",
        "pl.tight_layout()"
      ]
    },
    {
      "cell_type": "markdown",
      "metadata": {
        "colab_type": "text",
        "id": "ghh2RNjjyvEv"
      },
      "source": [
        "Instantiate the different transport algorithms and fit them\n",
        "-----------------------------------------------------------\n",
        "\n"
      ]
    },
    {
      "cell_type": "code",
      "execution_count": null,
      "metadata": {
        "colab": {},
        "colab_type": "code",
        "id": "2EZmd-x6yvEw"
      },
      "outputs": [],
      "source": [
        "# Parameters\n",
        "reg_e = 1e-1 # Entropic regularization term \n",
        "\n",
        "# EMD (Earth Mover's Distance) Transport\n",
        "ot_emd = ot.da.EMDTransport()\n",
        "ot_emd.fit(Xs=Xs, Xt=Xt)\n",
        "\n",
        "# SinkhornTransport\n",
        "ot_sinkhorn = ot.da.SinkhornTransport(reg_e)\n",
        "ot_sinkhorn.fit(Xs=Xs, Xt=Xt)\n",
        "\n",
        "# prediction between images (using out of sample prediction as in [6])\n",
        "transp_Xs_emd = ot_emd.transform(Xs=X1)\n",
        "transp_Xt_emd = ot_emd.inverse_transform(Xt=X2)\n",
        "\n",
        "transp_Xs_sinkhorn = ot_sinkhorn.transform(Xs=X1)\n",
        "transp_Xt_sinkhorn = ot_sinkhorn.inverse_transform(Xt=X2)\n",
        "\n",
        "I1t = minmax(mat2im(transp_Xs_emd, I1.shape))\n",
        "I2t = minmax(mat2im(transp_Xt_emd, I2.shape))\n",
        "\n",
        "I1te = minmax(mat2im(transp_Xs_sinkhorn, I1.shape))\n",
        "I2te = minmax(mat2im(transp_Xt_sinkhorn, I2.shape))"
      ]
    },
    {
      "cell_type": "code",
      "execution_count": null,
      "metadata": {},
      "outputs": [],
      "source": []
    },
    {
      "cell_type": "markdown",
      "metadata": {
        "colab_type": "text",
        "id": "ecBopXMjyvEy"
      },
      "source": [
        "Plot new images\n",
        "---------------\n",
        "\n"
      ]
    },
    {
      "cell_type": "code",
      "execution_count": null,
      "metadata": {
        "colab": {},
        "colab_type": "code",
        "id": "ot3JSy8byvEz"
      },
      "outputs": [],
      "source": [
        "pl.figure(3, figsize=(8, 4))\n",
        "\n",
        "pl.subplot(2, 3, 1)\n",
        "pl.imshow(I1)\n",
        "pl.axis('off')\n",
        "pl.title('Image 1')\n",
        "\n",
        "pl.subplot(2, 3, 2)\n",
        "pl.imshow(I1t)\n",
        "pl.axis('off')\n",
        "pl.title('Image 1 Adapt')\n",
        "\n",
        "pl.subplot(2, 3, 3)\n",
        "pl.imshow(I1te)\n",
        "pl.axis('off')\n",
        "pl.title('Image 1 Adapt (reg)')\n",
        "\n",
        "pl.subplot(2, 3, 4)\n",
        "pl.imshow(I2)\n",
        "pl.axis('off')\n",
        "pl.title('Image 2')\n",
        "\n",
        "pl.subplot(2, 3, 5)\n",
        "pl.imshow(I2t)\n",
        "pl.axis('off')\n",
        "pl.title('Image 2 Adapt')\n",
        "\n",
        "pl.subplot(2, 3, 6)\n",
        "pl.imshow(I2te)\n",
        "pl.axis('off')\n",
        "pl.title('Image 2 Adapt (reg)')\n",
        "pl.tight_layout()\n",
        "\n",
        "pl.show()"
      ]
    }
  ],
  "metadata": {
    "colab": {
      "collapsed_sections": [],
      "name": "OT.ipynb",
      "provenance": [],
      "toc_visible": true,
      "version": "0.3.2"
    },
    "kernelspec": {
      "display_name": "Python 2",
      "language": "python",
      "name": "python2"
    }
  },
  "nbformat": 4,
  "nbformat_minor": 0
}
