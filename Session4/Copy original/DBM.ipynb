{
  "cells": [
    {
      "cell_type": "code",
      "execution_count": 1,
      "metadata": {
        "id": "c2ut_4TUa9YI",
        "pycharm": {
          "name": "#%%\n"
        }
      },
      "outputs": [
        {
          "name": "stdout",
          "output_type": "stream",
          "text": [
            "[WinError 2] The system cannot find the file specified: '/content'\n",
            "c:\\Users\\alexa\\OneDrive - KU Leuven\\Unief\\Vakken\\2022-2023 master\\Artificial Neural Networks and Deep Learning\\Exercises\\Session4\n",
            "Collecting nose\n",
            "  Downloading nose-1.3.7-py3-none-any.whl (154 kB)\n",
            "Installing collected packages: nose\n",
            "Successfully installed nose-1.3.7\n"
          ]
        },
        {
          "name": "stderr",
          "output_type": "stream",
          "text": [
            "WARNING: You are using pip version 21.2.4; however, version 23.1.2 is available.\n",
            "You should consider upgrading via the 'c:\\users\\alexa\\appdata\\local\\programs\\python\\python39\\python.exe -m pip install --upgrade pip' command.\n"
          ]
        },
        {
          "name": "stdout",
          "output_type": "stream",
          "text": [
            "Collecting tensorflow-addons\n",
            "  Downloading tensorflow_addons-0.20.0-cp39-cp39-win_amd64.whl (746 kB)\n",
            "Collecting typeguard<3.0.0,>=2.7\n",
            "  Downloading typeguard-2.13.3-py3-none-any.whl (17 kB)\n",
            "Requirement already satisfied: packaging in c:\\users\\alexa\\appdata\\local\\programs\\python\\python39\\lib\\site-packages (from tensorflow-addons) (21.0)\n",
            "Requirement already satisfied: pyparsing>=2.0.2 in c:\\users\\alexa\\appdata\\local\\programs\\python\\python39\\lib\\site-packages (from packaging->tensorflow-addons) (2.4.7)\n",
            "Installing collected packages: typeguard, tensorflow-addons\n",
            "Successfully installed tensorflow-addons-0.20.0 typeguard-2.13.3\n"
          ]
        },
        {
          "name": "stderr",
          "output_type": "stream",
          "text": [
            "WARNING: You are using pip version 21.2.4; however, version 23.1.2 is available.\n",
            "You should consider upgrading via the 'c:\\users\\alexa\\appdata\\local\\programs\\python\\python39\\python.exe -m pip install --upgrade pip' command.\n",
            "'rm' is not recognized as an internal or external command,\n",
            "operable program or batch file.\n",
            "Cloning into 'boltzmann-machines'...\n",
            "Updating files:  54% (144/266)\n",
            "Updating files:  55% (147/266)\n",
            "Updating files:  56% (149/266)\n",
            "Updating files:  57% (152/266)\n",
            "Updating files:  58% (155/266)\n",
            "Updating files:  59% (157/266)\n",
            "Updating files:  60% (160/266)\n",
            "Updating files:  61% (163/266)\n",
            "Updating files:  62% (165/266)\n",
            "Updating files:  63% (168/266)\n",
            "Updating files:  64% (171/266)\n",
            "Updating files:  65% (173/266)\n",
            "Updating files:  66% (176/266)\n",
            "Updating files:  67% (179/266)\n",
            "Updating files:  68% (181/266)\n",
            "Updating files:  69% (184/266)\n",
            "Updating files:  70% (187/266)\n",
            "Updating files:  71% (189/266)\n",
            "Updating files:  72% (192/266)\n",
            "Updating files:  73% (195/266)\n",
            "Updating files:  74% (197/266)\n",
            "Updating files:  75% (200/266)\n",
            "Updating files:  76% (203/266)\n",
            "Updating files:  77% (205/266)\n",
            "Updating files:  78% (208/266)\n",
            "Updating files:  79% (211/266)\n",
            "Updating files:  80% (213/266)\n",
            "Updating files:  81% (216/266)\n",
            "Updating files:  82% (219/266)\n",
            "Updating files:  83% (221/266)\n",
            "Updating files:  84% (224/266)\n",
            "Updating files:  85% (227/266)\n",
            "Updating files:  86% (229/266)\n",
            "Updating files:  87% (232/266)\n",
            "Updating files:  88% (235/266)\n",
            "Updating files:  89% (237/266)\n",
            "Updating files:  90% (240/266)\n",
            "Updating files:  91% (243/266)\n",
            "Updating files:  92% (245/266)\n",
            "Updating files:  93% (248/266)\n",
            "Updating files:  94% (251/266)\n",
            "Updating files:  95% (253/266)\n",
            "Updating files:  96% (256/266)\n",
            "Updating files:  97% (259/266)\n",
            "Updating files:  98% (261/266)\n",
            "Updating files:  99% (264/266)\n",
            "Updating files: 100% (266/266)\n",
            "Updating files: 100% (266/266), done.\n"
          ]
        },
        {
          "name": "stdout",
          "output_type": "stream",
          "text": [
            "[WinError 3] The system cannot find the path specified: '/content/boltzmann-machines'\n",
            "c:\\Users\\alexa\\OneDrive - KU Leuven\\Unief\\Vakken\\2022-2023 master\\Artificial Neural Networks and Deep Learning\\Exercises\\Session4\n"
          ]
        },
        {
          "ename": "ModuleNotFoundError",
          "evalue": "No module named 'examples'",
          "output_type": "error",
          "traceback": [
            "\u001b[1;31m---------------------------------------------------------------------------\u001b[0m",
            "\u001b[1;31mModuleNotFoundError\u001b[0m                       Traceback (most recent call last)",
            "\u001b[1;32mc:\\Users\\alexa\\OneDrive - KU Leuven\\Unief\\Vakken\\2022-2023 master\\Artificial Neural Networks and Deep Learning\\Exercises\\Session4\\DBM.ipynb Cell 1\u001b[0m in \u001b[0;36m<cell line: 15>\u001b[1;34m()\u001b[0m\n\u001b[0;32m     <a href='vscode-notebook-cell:/c%3A/Users/alexa/OneDrive%20-%20KU%20Leuven/Unief/Vakken/2022-2023%20master/Artificial%20Neural%20Networks%20and%20Deep%20Learning/Exercises/Session4/DBM.ipynb#W0sZmlsZQ%3D%3D?line=11'>12</a>\u001b[0m logging\u001b[39m.\u001b[39mdisable(logging\u001b[39m.\u001b[39mWARNING)\n\u001b[0;32m     <a href='vscode-notebook-cell:/c%3A/Users/alexa/OneDrive%20-%20KU%20Leuven/Unief/Vakken/2022-2023%20master/Artificial%20Neural%20Networks%20and%20Deep%20Learning/Exercises/Session4/DBM.ipynb#W0sZmlsZQ%3D%3D?line=12'>13</a>\u001b[0m os\u001b[39m.\u001b[39menviron[\u001b[39m\"\u001b[39m\u001b[39mTF_CPP_MIN_LOG_LEVEL\u001b[39m\u001b[39m\"\u001b[39m] \u001b[39m=\u001b[39m \u001b[39m\"\u001b[39m\u001b[39m3\u001b[39m\u001b[39m\"\u001b[39m\n\u001b[1;32m---> <a href='vscode-notebook-cell:/c%3A/Users/alexa/OneDrive%20-%20KU%20Leuven/Unief/Vakken/2022-2023%20master/Artificial%20Neural%20Networks%20and%20Deep%20Learning/Exercises/Session4/DBM.ipynb#W0sZmlsZQ%3D%3D?line=14'>15</a>\u001b[0m \u001b[39mfrom\u001b[39;00m \u001b[39mexamples\u001b[39;00m \u001b[39mimport\u001b[39;00m callable_dbm_mnist\n\u001b[0;32m     <a href='vscode-notebook-cell:/c%3A/Users/alexa/OneDrive%20-%20KU%20Leuven/Unief/Vakken/2022-2023%20master/Artificial%20Neural%20Networks%20and%20Deep%20Learning/Exercises/Session4/DBM.ipynb#W0sZmlsZQ%3D%3D?line=15'>16</a>\u001b[0m \u001b[39mfrom\u001b[39;00m \u001b[39mkeras\u001b[39;00m\u001b[39m.\u001b[39;00m\u001b[39mdatasets\u001b[39;00m \u001b[39mimport\u001b[39;00m mnist\n\u001b[0;32m     <a href='vscode-notebook-cell:/c%3A/Users/alexa/OneDrive%20-%20KU%20Leuven/Unief/Vakken/2022-2023%20master/Artificial%20Neural%20Networks%20and%20Deep%20Learning/Exercises/Session4/DBM.ipynb#W0sZmlsZQ%3D%3D?line=16'>17</a>\u001b[0m \u001b[39mfrom\u001b[39;00m \u001b[39msklearn\u001b[39;00m\u001b[39m.\u001b[39;00m\u001b[39mneural_network\u001b[39;00m \u001b[39mimport\u001b[39;00m BernoulliRBM\n",
            "\u001b[1;31mModuleNotFoundError\u001b[0m: No module named 'examples'"
          ]
        }
      ],
      "source": [
        "%cd /content\n",
        "!pip install nose\n",
        "!pip install tensorflow-addons\n",
        "!rm -rf boltzmann-machines\n",
        "!git clone --single-branch --depth=1 --branch experimental-tf2 https://github.com/hannesdm/boltzmann-machines.git\n",
        "%cd /content/boltzmann-machines\n",
        "import numpy as np\n",
        "import matplotlib.pyplot as plt\n",
        "plt.rcParams['image.cmap'] = 'gray'\n",
        "plt.rcParams['axes.grid'] = False\n",
        "import logging, os\n",
        "logging.disable(logging.WARNING)\n",
        "os.environ[\"TF_CPP_MIN_LOG_LEVEL\"] = \"3\"\n",
        "\n",
        "from examples import callable_dbm_mnist\n",
        "from keras.datasets import mnist\n",
        "from sklearn.neural_network import BernoulliRBM\n",
        "from sklearn import preprocessing\n",
        "from sklearn.metrics import accuracy_score\n",
        "from boltzmann_machines import DBM\n",
        "from boltzmann_machines.rbm import BernoulliRBM\n",
        "from boltzmann_machines.utils import im_plot"
      ]
    },
    {
      "cell_type": "markdown",
      "metadata": {
        "id": "h76_RkCZbw1g",
        "pycharm": {
          "name": "#%% md\n"
        }
      },
      "source": [
        "## Load the mnist data"
      ]
    },
    {
      "cell_type": "code",
      "execution_count": null,
      "metadata": {
        "id": "umyVA70DYEmM",
        "pycharm": {
          "name": "#%%\n"
        }
      },
      "outputs": [],
      "source": [
        "(X_train, Y_train), (X_test, Y_test) = mnist.load_data()\n",
        "X_train = X_train.reshape((X_train.shape[0], -1))\n",
        "X_test = X_test.reshape((X_test.shape[0],-1))\n",
        "X_train = X_train.astype('float32') / 255\n",
        "X_test = X_test.astype('float32') / 255"
      ]
    },
    {
      "cell_type": "markdown",
      "metadata": {
        "id": "HegMeKq0b8s0",
        "pycharm": {
          "name": "#%% md\n"
        }
      },
      "source": [
        "## Load a pretrained model and visualise the components\n",
        "To prevent losing too much time on training a deep model, a working pretrained RBM will be used. <br/>\n",
        "**Exercise** Observe the components (weights of each neuron) of the DBM and compare with the components of the previously trained RBM in exercise 1. What is the difference?<br/>\n",
        "Can you explain the difference between the components of the first and second layer of the DBM?\n"
      ]
    },
    {
      "cell_type": "code",
      "execution_count": null,
      "metadata": {
        "id": "s0X2KqR_fUU5",
        "pycharm": {
          "name": "#%%\n"
        }
      },
      "outputs": [],
      "source": [
        "rbm1 = BernoulliRBM.load_model('/content/boltzmann-machines/models/dbm_mnist_rbm1/')\n",
        "rbm2 = BernoulliRBM.load_model('/content/boltzmann-machines/models/dbm_mnist_rbm2/')\n",
        "dbm = DBM.load_model('/content/boltzmann-machines/models/dbm_mnist/')\n",
        "dbm.load_rbms([rbm1, rbm2])"
      ]
    },
    {
      "cell_type": "code",
      "execution_count": null,
      "metadata": {
        "id": "6VM7wmSKfxHl",
        "pycharm": {
          "name": "#%%\n"
        }
      },
      "outputs": [],
      "source": [
        "import tensorflow as tf \n",
        "W1_joint = dbm._W[0].value().numpy()\n",
        "\n",
        "fig = plt.figure(figsize=(10, 10))\n",
        "im_plot(W1_joint.T, shape=(28, 28), title='First 100 filters of the first layer of the DBM',\n",
        "        title_params={'fontsize': 20}, imshow_params={'cmap': plt.cm.gray})"
      ]
    },
    {
      "cell_type": "code",
      "execution_count": null,
      "metadata": {
        "id": "7EXVU-3_f4dA",
        "pycharm": {
          "name": "#%%\n"
        }
      },
      "outputs": [],
      "source": [
        "W2_joint = dbm._W[1].value().numpy()\n",
        "U_joint = W1_joint.dot(W2_joint)\n",
        "\n",
        "fig = plt.figure(figsize=(10, 10))\n",
        "im_plot(U_joint.T, shape=(28, 28), title='First 100 filters of the 2nd layer of the DBM',\n",
        "        title_params={'fontsize': 20})"
      ]
    },
    {
      "cell_type": "markdown",
      "metadata": {
        "id": "HYaG0cv2gtfG",
        "pycharm": {
          "name": "#%% md\n"
        }
      },
      "source": [
        "## Sample the DBM\n",
        "**Exercise** Comment on the quality of the samples and compare them with the samples from the RBM.<br/>\n",
        "Do you see a difference in quality? Explain why."
      ]
    },
    {
      "cell_type": "code",
      "execution_count": null,
      "metadata": {
        "id": "pqILfLzKgAv-",
        "pycharm": {
          "name": "#%%\n"
        }
      },
      "outputs": [],
      "source": [
        "gibbs_steps = 1\n",
        "\n",
        "V = dbm.sample_v(n_gibbs_steps=gibbs_steps)\n",
        "\n",
        "fig = plt.figure(figsize=(10, 10))\n",
        "im_plot(V, shape=(28, 28), title='Samples generated by DBM after '+str(gibbs_steps) + ' Gibbs steps',\n",
        "        imshow_params={'cmap': plt.cm.gray})"
      ]
    }
  ],
  "metadata": {
    "accelerator": "GPU",
    "colab": {
      "collapsed_sections": [],
      "name": "DBM.ipynb",
      "provenance": []
    },
    "kernelspec": {
      "display_name": "Python 3",
      "name": "python3"
    },
    "language_info": {
      "codemirror_mode": {
        "name": "ipython",
        "version": 3
      },
      "file_extension": ".py",
      "mimetype": "text/x-python",
      "name": "python",
      "nbconvert_exporter": "python",
      "pygments_lexer": "ipython3",
      "version": "3.9.6"
    }
  },
  "nbformat": 4,
  "nbformat_minor": 0
}
